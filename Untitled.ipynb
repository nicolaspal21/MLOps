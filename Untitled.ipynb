{
 "cells": [
  {
   "cell_type": "code",
   "execution_count": 1,
   "id": "8657b258-f5d5-4c92-a8fa-dcec44778f2f",
   "metadata": {},
   "outputs": [
    {
     "name": "stderr",
     "output_type": "stream",
     "text": [
      "2024/10/15 20:40:27 INFO mlflow.models.evaluation.default_evaluator: Computing model predictions.\n",
      "/home/nicolaspc/anaconda3/envs/mlops_env/lib/python3.12/site-packages/sklearn/metrics/_regression.py:492: FutureWarning: 'squared' is deprecated in version 1.4 and will be removed in 1.6. To calculate the root mean squared error, use the function'root_mean_squared_error'.\n",
      "  warnings.warn(\n",
      "2024/10/15 20:40:28 INFO mlflow.models.evaluation.default_evaluator: Testing metrics on first row...\n",
      "2024/10/15 20:40:28 WARNING mlflow.models.evaluation.default_evaluator: SHAP or matplotlib package is not installed, so model explainability insights will not be logged.\n",
      "2024/10/15 20:40:36 INFO mlflow.models.evaluation.default_evaluator: Computing model predictions.\n",
      "/home/nicolaspc/anaconda3/envs/mlops_env/lib/python3.12/site-packages/sklearn/metrics/_regression.py:492: FutureWarning: 'squared' is deprecated in version 1.4 and will be removed in 1.6. To calculate the root mean squared error, use the function'root_mean_squared_error'.\n",
      "  warnings.warn(\n",
      "2024/10/15 20:40:36 INFO mlflow.models.evaluation.default_evaluator: Testing metrics on first row...\n",
      "2024/10/15 20:40:36 WARNING mlflow.models.evaluation.default_evaluator: SHAP or matplotlib package is not installed, so model explainability insights will not be logged.\n",
      "2024/10/15 20:40:44 INFO mlflow.models.evaluation.default_evaluator: Computing model predictions.\n",
      "/home/nicolaspc/anaconda3/envs/mlops_env/lib/python3.12/site-packages/sklearn/metrics/_regression.py:492: FutureWarning: 'squared' is deprecated in version 1.4 and will be removed in 1.6. To calculate the root mean squared error, use the function'root_mean_squared_error'.\n",
      "  warnings.warn(\n",
      "2024/10/15 20:40:44 INFO mlflow.models.evaluation.default_evaluator: Testing metrics on first row...\n",
      "2024/10/15 20:40:44 WARNING mlflow.models.evaluation.default_evaluator: SHAP or matplotlib package is not installed, so model explainability insights will not be logged.\n"
     ]
    }
   ],
   "source": [
    "import mlflow\n",
    "import os\n",
    "import pandas as pd\n",
    "\n",
    "from mlflow.tracking import MlflowClient\n",
    "from mlflow.models import infer_signature\n",
    "from mlflow.store.artifact.artifact_repository_registry import get_artifact_repository\n",
    "\n",
    "from sklearn.datasets import fetch_california_housing\n",
    "from sklearn.ensemble import RandomForestRegressor, HistGradientBoostingRegressor\n",
    "from sklearn.linear_model import LinearRegression\n",
    "from sklearn.metrics import mean_squared_error, r2_score\n",
    "from sklearn.model_selection import train_test_split\n",
    "\n",
    "from sklearn.datasets import fetch_california_housing\n",
    "\n",
    "\n",
    "# Прочитаем данные.\n",
    "housing = fetch_california_housing(as_frame=True)\n",
    "\n",
    "X_train, X_test, y_train, y_test = train_test_split(housing['data'], housing['target'])\n",
    "X_val, X_test, y_val, y_test = train_test_split(X_test, y_test, test_size=0.5)\n",
    "\n",
    "# Создать новый эксперимент\n",
    "exp_name = \"NicolasPal\"\n",
    "\n",
    "try:\n",
    "    experiment_id = mlflow.create_experiment(exp_name, artifact_location=f\"s3://test-bucket-nicolas-1/mlflow/{exp_name}\")\n",
    "    \n",
    "except mlflow.exceptions.MlflowException:\n",
    "            experiment_id = mlflow.get_experiment_by_name(exp_name).experiment_id\n",
    "\n",
    "mlflow.set_experiment(exp_name)\n",
    "\n",
    "models = dict(zip([\"RandomForest\", \"LinearRegression\", \"HistGB\"], \n",
    "                  [RandomForestRegressor(), LinearRegression(), HistGradientBoostingRegressor()]))\n",
    "\n",
    "# Создадим parent run.\n",
    "with mlflow.start_run(run_name=\"@nikolai022022\", experiment_id = experiment_id, description = \"parent\") as parent_run:\n",
    "    for model_name in models.keys():\n",
    "        # Запустим child run на каждую модель.\n",
    "        with mlflow.start_run(run_name=model_name, experiment_id=experiment_id, nested=True) as child_run:\n",
    "            model = models[model_name]\n",
    "            \n",
    "            # Обучим модель.\n",
    "            model.fit(pd.DataFrame(X_train), y_train)\n",
    "        \n",
    "            # Сделаем предсказание.\n",
    "            prediction = model.predict(X_val)\n",
    "        \n",
    "            # Создадим валидационный датасет.\n",
    "            eval_df = X_val.copy()\n",
    "            eval_df[\"target\"] = y_val\n",
    "        \n",
    "            # Сохраним результаты обучения с помощью MLFlow.\n",
    "            signature = infer_signature(X_test, prediction)\n",
    "            model_info = mlflow.sklearn.log_model(model, \"logreg\", signature=signature)\n",
    "            mlflow.evaluate(\n",
    "                model=model_info.model_uri,\n",
    "                data=eval_df,\n",
    "                targets=\"target\",\n",
    "                model_type=\"regressor\",\n",
    "                evaluators=[\"default\"],\n",
    "            )\n"
   ]
  },
  {
   "cell_type": "code",
   "execution_count": null,
   "id": "57c4a650-2abf-46d5-8119-456c3b22b48c",
   "metadata": {},
   "outputs": [],
   "source": []
  }
 ],
 "metadata": {
  "kernelspec": {
   "display_name": "Python 3 (ipykernel)",
   "language": "python",
   "name": "python3"
  },
  "language_info": {
   "codemirror_mode": {
    "name": "ipython",
    "version": 3
   },
   "file_extension": ".py",
   "mimetype": "text/x-python",
   "name": "python",
   "nbconvert_exporter": "python",
   "pygments_lexer": "ipython3",
   "version": "3.12.3"
  }
 },
 "nbformat": 4,
 "nbformat_minor": 5
}
