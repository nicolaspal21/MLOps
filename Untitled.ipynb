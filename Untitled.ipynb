{
 "cells": [
  {
   "cell_type": "code",
   "execution_count": 1,
   "id": "95671126-6081-4873-be4c-f6df5959de0b",
   "metadata": {},
   "outputs": [
    {
     "data": {
      "text/html": [
       "<pre style=\"white-space:pre;overflow-x:auto;line-height:normal;font-family:Menlo,'DejaVu Sans Mono',consolas,'Courier New',monospace\"><span style=\"color: #808000; text-decoration-color: #808000; font-weight: bold\">/home/nicolaspc/anaconda3/envs/mlops_env/lib/python3.12/site-packages/airflow/plugins_manager.py:</span><span style=\"color: #808000; text-decoration-color: #808000; font-weight: bold\">30</span><span style=\"color: #808000; text-decoration-color: #808000; font-weight: bold\"> DeprecationWarning</span><span style=\"color: #808000; text-decoration-color: #808000\">: </span><span style=\"color: #808000; text-decoration-color: #808000\">'cgitb'</span><span style=\"color: #808000; text-decoration-color: #808000\"> is deprecated and slated for removal in Python </span><span style=\"color: #808000; text-decoration-color: #808000; font-weight: bold\">3.13</span>\n",
       "</pre>\n"
      ],
      "text/plain": [
       "\u001b[1;33m/home/nicolaspc/anaconda3/envs/mlops_env/lib/python3.12/site-packages/airflow/\u001b[0m\u001b[1;33mplugins_manager.py\u001b[0m\u001b[1;33m:\u001b[0m\u001b[1;33m30\u001b[0m\u001b[1;33m DeprecationWarning\u001b[0m\u001b[33m: \u001b[0m\u001b[33m'cgitb'\u001b[0m\u001b[33m is deprecated and slated for removal in Python \u001b[0m\u001b[1;33m3.13\u001b[0m\n"
      ]
     },
     "metadata": {},
     "output_type": "display_data"
    },
    {
     "data": {
      "text/html": [
       "<pre style=\"white-space:pre;overflow-x:auto;line-height:normal;font-family:Menlo,'DejaVu Sans Mono',consolas,'Courier New',monospace\"><span style=\"color: #808000; text-decoration-color: #808000; font-weight: bold\">/tmp/ipykernel_36573/3424401397.py:</span><span style=\"color: #808000; text-decoration-color: #808000; font-weight: bold\">28</span><span style=\"color: #808000; text-decoration-color: #808000; font-weight: bold\"> DeprecationWarning</span><span style=\"color: #808000; text-decoration-color: #808000\">: The `airflow.operators.python_operator.PythonOperator` class is deprecated. Please use `</span><span style=\"color: #808000; text-decoration-color: #808000\">'airflow.operators.python.PythonOperator'</span><span style=\"color: #808000; text-decoration-color: #808000\">`.</span>\n",
       "</pre>\n"
      ],
      "text/plain": [
       "\u001b[1;33m/tmp/ipykernel_36573/\u001b[0m\u001b[1;33m3424401397.py\u001b[0m\u001b[1;33m:\u001b[0m\u001b[1;33m28\u001b[0m\u001b[1;33m DeprecationWarning\u001b[0m\u001b[33m: The `airflow.operators.python_operator.PythonOperator` class is deprecated. Please use `\u001b[0m\u001b[33m'airflow.operators.python.PythonOperator'\u001b[0m\u001b[33m`.\u001b[0m\n"
      ]
     },
     "metadata": {},
     "output_type": "display_data"
    }
   ],
   "source": [
    "import io\n",
    "import json\n",
    "import logging\n",
    "import numpy as np\n",
    "import pandas as pd\n",
    "import pickle\n",
    "import time\n",
    "\n",
    "from sklearn.datasets import fetch_california_housing\n",
    "from sqlalchemy import create_engine\n",
    "\n",
    "from datetime import datetime, timedelta\n",
    "from sklearn.linear_model import LinearRegression\n",
    "from sklearn.ensemble import RandomForestRegressor, HistGradientBoostingRegressor\n",
    "from sklearn.model_selection import train_test_split\n",
    "from sklearn.metrics import mean_squared_error, median_absolute_error, r2_score\n",
    "from sklearn.preprocessing import StandardScaler\n",
    "from typing import Any, Dict, NoReturn, Literal\n",
    "\n",
    "import mlflow\n",
    "from mlflow.tracking import MlflowClient\n",
    "from mlflow.models import infer_signature\n",
    "from mlflow.store.artifact.artifact_repository_registry import get_artifact_repository\n",
    "\n",
    "from airflow.providers.amazon.aws.hooks.s3 import S3Hook\n",
    "from airflow.providers.postgres.hooks.postgres import PostgresHook\n",
    "from airflow.models import DAG\n",
    "from airflow.operators.python_operator import PythonOperator\n",
    "from airflow.utils.dates import days_ago"
   ]
  },
  {
   "cell_type": "code",
   "execution_count": 35,
   "id": "669ff534-fac3-40bc-9e00-786c9f0052dc",
   "metadata": {},
   "outputs": [],
   "source": [
    "housing = fetch_california_housing(as_frame=True)\n",
    "X_train, X_test, y_train, y_test = train_test_split(housing['data'], housing['target'])\n",
    "X_val, X_test, y_val, y_test = train_test_split(X_test, y_test, test_size=0.5)"
   ]
  },
  {
   "cell_type": "code",
   "execution_count": 40,
   "id": "8f7a5904-d20b-4ad0-be3b-1a35c4ff5dfc",
   "metadata": {},
   "outputs": [
    {
     "name": "stdout",
     "output_type": "stream",
     "text": [
      "<class 'pandas.core.frame.DataFrame'>\n",
      "Index: 2580 entries, 11220 to 1914\n",
      "Data columns (total 8 columns):\n",
      " #   Column      Non-Null Count  Dtype  \n",
      "---  ------      --------------  -----  \n",
      " 0   MedInc      2580 non-null   float64\n",
      " 1   HouseAge    2580 non-null   float64\n",
      " 2   AveRooms    2580 non-null   float64\n",
      " 3   AveBedrms   2580 non-null   float64\n",
      " 4   Population  2580 non-null   float64\n",
      " 5   AveOccup    2580 non-null   float64\n",
      " 6   Latitude    2580 non-null   float64\n",
      " 7   Longitude   2580 non-null   float64\n",
      "dtypes: float64(8)\n",
      "memory usage: 181.4 KB\n"
     ]
    }
   ],
   "source": [
    "X_val.info()"
   ]
  },
  {
   "cell_type": "code",
   "execution_count": null,
   "id": "9878f24d-db15-4a72-ba42-af4ac1740d2d",
   "metadata": {},
   "outputs": [],
   "source": []
  },
  {
   "cell_type": "code",
   "execution_count": 32,
   "id": "e7c0ab2d-7248-407f-9e81-e5ccc6b9a471",
   "metadata": {},
   "outputs": [
    {
     "data": {
      "text/html": [
       "<div>\n",
       "<style scoped>\n",
       "    .dataframe tbody tr th:only-of-type {\n",
       "        vertical-align: middle;\n",
       "    }\n",
       "\n",
       "    .dataframe tbody tr th {\n",
       "        vertical-align: top;\n",
       "    }\n",
       "\n",
       "    .dataframe thead th {\n",
       "        text-align: right;\n",
       "    }\n",
       "</style>\n",
       "<table border=\"1\" class=\"dataframe\">\n",
       "  <thead>\n",
       "    <tr style=\"text-align: right;\">\n",
       "      <th></th>\n",
       "      <th>MedInc</th>\n",
       "      <th>HouseAge</th>\n",
       "      <th>AveRooms</th>\n",
       "      <th>AveBedrms</th>\n",
       "      <th>Population</th>\n",
       "      <th>AveOccup</th>\n",
       "      <th>Latitude</th>\n",
       "      <th>Longitude</th>\n",
       "    </tr>\n",
       "  </thead>\n",
       "  <tbody>\n",
       "    <tr>\n",
       "      <th>20154</th>\n",
       "      <td>6.6257</td>\n",
       "      <td>39.0</td>\n",
       "      <td>5.541779</td>\n",
       "      <td>1.026954</td>\n",
       "      <td>939.0</td>\n",
       "      <td>2.530997</td>\n",
       "      <td>34.46</td>\n",
       "      <td>-119.19</td>\n",
       "    </tr>\n",
       "    <tr>\n",
       "      <th>12009</th>\n",
       "      <td>4.8167</td>\n",
       "      <td>24.0</td>\n",
       "      <td>5.514735</td>\n",
       "      <td>0.984283</td>\n",
       "      <td>1653.0</td>\n",
       "      <td>3.247544</td>\n",
       "      <td>33.92</td>\n",
       "      <td>-117.55</td>\n",
       "    </tr>\n",
       "    <tr>\n",
       "      <th>11258</th>\n",
       "      <td>2.8042</td>\n",
       "      <td>26.0</td>\n",
       "      <td>4.017982</td>\n",
       "      <td>1.079920</td>\n",
       "      <td>2457.0</td>\n",
       "      <td>2.454545</td>\n",
       "      <td>33.81</td>\n",
       "      <td>-117.97</td>\n",
       "    </tr>\n",
       "    <tr>\n",
       "      <th>8408</th>\n",
       "      <td>1.7344</td>\n",
       "      <td>35.0</td>\n",
       "      <td>4.449153</td>\n",
       "      <td>1.067797</td>\n",
       "      <td>918.0</td>\n",
       "      <td>3.889831</td>\n",
       "      <td>33.93</td>\n",
       "      <td>-118.35</td>\n",
       "    </tr>\n",
       "    <tr>\n",
       "      <th>3191</th>\n",
       "      <td>3.1071</td>\n",
       "      <td>24.0</td>\n",
       "      <td>5.132075</td>\n",
       "      <td>1.056604</td>\n",
       "      <td>442.0</td>\n",
       "      <td>4.169811</td>\n",
       "      <td>36.28</td>\n",
       "      <td>-119.81</td>\n",
       "    </tr>\n",
       "    <tr>\n",
       "      <th>...</th>\n",
       "      <td>...</td>\n",
       "      <td>...</td>\n",
       "      <td>...</td>\n",
       "      <td>...</td>\n",
       "      <td>...</td>\n",
       "      <td>...</td>\n",
       "      <td>...</td>\n",
       "      <td>...</td>\n",
       "    </tr>\n",
       "    <tr>\n",
       "      <th>679</th>\n",
       "      <td>4.3864</td>\n",
       "      <td>35.0</td>\n",
       "      <td>5.415638</td>\n",
       "      <td>0.919753</td>\n",
       "      <td>1349.0</td>\n",
       "      <td>2.775720</td>\n",
       "      <td>37.68</td>\n",
       "      <td>-122.15</td>\n",
       "    </tr>\n",
       "    <tr>\n",
       "      <th>13004</th>\n",
       "      <td>3.8906</td>\n",
       "      <td>15.0</td>\n",
       "      <td>4.832386</td>\n",
       "      <td>0.982955</td>\n",
       "      <td>723.0</td>\n",
       "      <td>2.053977</td>\n",
       "      <td>38.67</td>\n",
       "      <td>-121.27</td>\n",
       "    </tr>\n",
       "    <tr>\n",
       "      <th>8441</th>\n",
       "      <td>4.3333</td>\n",
       "      <td>42.0</td>\n",
       "      <td>4.607565</td>\n",
       "      <td>0.997636</td>\n",
       "      <td>1184.0</td>\n",
       "      <td>2.799054</td>\n",
       "      <td>33.91</td>\n",
       "      <td>-118.36</td>\n",
       "    </tr>\n",
       "    <tr>\n",
       "      <th>8707</th>\n",
       "      <td>5.8972</td>\n",
       "      <td>35.0</td>\n",
       "      <td>5.663551</td>\n",
       "      <td>1.099688</td>\n",
       "      <td>853.0</td>\n",
       "      <td>2.657321</td>\n",
       "      <td>33.83</td>\n",
       "      <td>-118.34</td>\n",
       "    </tr>\n",
       "    <tr>\n",
       "      <th>10751</th>\n",
       "      <td>6.0247</td>\n",
       "      <td>41.0</td>\n",
       "      <td>6.302817</td>\n",
       "      <td>1.271127</td>\n",
       "      <td>540.0</td>\n",
       "      <td>1.901408</td>\n",
       "      <td>33.61</td>\n",
       "      <td>-117.89</td>\n",
       "    </tr>\n",
       "  </tbody>\n",
       "</table>\n",
       "<p>2580 rows × 8 columns</p>\n",
       "</div>"
      ],
      "text/plain": [
       "       MedInc  HouseAge  AveRooms  AveBedrms  Population  AveOccup  Latitude  \\\n",
       "20154  6.6257      39.0  5.541779   1.026954       939.0  2.530997     34.46   \n",
       "12009  4.8167      24.0  5.514735   0.984283      1653.0  3.247544     33.92   \n",
       "11258  2.8042      26.0  4.017982   1.079920      2457.0  2.454545     33.81   \n",
       "8408   1.7344      35.0  4.449153   1.067797       918.0  3.889831     33.93   \n",
       "3191   3.1071      24.0  5.132075   1.056604       442.0  4.169811     36.28   \n",
       "...       ...       ...       ...        ...         ...       ...       ...   \n",
       "679    4.3864      35.0  5.415638   0.919753      1349.0  2.775720     37.68   \n",
       "13004  3.8906      15.0  4.832386   0.982955       723.0  2.053977     38.67   \n",
       "8441   4.3333      42.0  4.607565   0.997636      1184.0  2.799054     33.91   \n",
       "8707   5.8972      35.0  5.663551   1.099688       853.0  2.657321     33.83   \n",
       "10751  6.0247      41.0  6.302817   1.271127       540.0  1.901408     33.61   \n",
       "\n",
       "       Longitude  \n",
       "20154    -119.19  \n",
       "12009    -117.55  \n",
       "11258    -117.97  \n",
       "8408     -118.35  \n",
       "3191     -119.81  \n",
       "...          ...  \n",
       "679      -122.15  \n",
       "13004    -121.27  \n",
       "8441     -118.36  \n",
       "8707     -118.34  \n",
       "10751    -117.89  \n",
       "\n",
       "[2580 rows x 8 columns]"
      ]
     },
     "execution_count": 32,
     "metadata": {},
     "output_type": "execute_result"
    }
   ],
   "source": [
    "pd.DataFrame(data[\"X_val\"], columns = FEATURES)"
   ]
  },
  {
   "cell_type": "code",
   "execution_count": 33,
   "id": "db6af451-0d10-4c24-a3af-9346ac4c9e85",
   "metadata": {},
   "outputs": [
    {
     "data": {
      "text/plain": [
       "19686    0.641\n",
       "9486     1.342\n",
       "19313    2.683\n",
       "1919     1.286\n",
       "15084    1.344\n",
       "         ...  \n",
       "5356     4.125\n",
       "9955     2.167\n",
       "847      1.514\n",
       "11235    1.774\n",
       "17311    2.306\n",
       "Name: MedHouseVal, Length: 2580, dtype: float64"
      ]
     },
     "execution_count": 33,
     "metadata": {},
     "output_type": "execute_result"
    }
   ],
   "source": [
    "y_val"
   ]
  },
  {
   "cell_type": "code",
   "execution_count": 34,
   "id": "a7e8813f-647a-4e18-a658-cd5cbb302a34",
   "metadata": {},
   "outputs": [
    {
     "data": {
      "text/plain": [
       "20154    4.27600\n",
       "12009    1.63300\n",
       "11258    2.06300\n",
       "8408     1.46900\n",
       "3191     0.56100\n",
       "          ...   \n",
       "679      2.05200\n",
       "13004    1.28700\n",
       "8441     2.25600\n",
       "8707     3.50900\n",
       "10751    5.00001\n",
       "Name: MedHouseVal, Length: 2580, dtype: float64"
      ]
     },
     "execution_count": 34,
     "metadata": {},
     "output_type": "execute_result"
    }
   ],
   "source": [
    "pd.Series(data[\"y_val\"])"
   ]
  },
  {
   "cell_type": "code",
   "execution_count": 29,
   "id": "63a18a9a-aa12-44b2-93e2-aa0f736bbd81",
   "metadata": {},
   "outputs": [],
   "source": [
    "s3_hook = S3Hook(\"s3_connection\")\n",
    "BUCKET = \"test-bucket-nicolas-1\"\n",
    "FEATURES = [\"MedInc\", \"HouseAge\", \"AveRooms\", \"AveBedrms\", \"Population\", \"AveOccup\", \"Latitude\", \"Longitude\"]"
   ]
  },
  {
   "cell_type": "code",
   "execution_count": 30,
   "id": "faec33f0-bd67-472f-a7b7-264d4196c730",
   "metadata": {},
   "outputs": [
    {
     "name": "stdout",
     "output_type": "stream",
     "text": [
      "[\u001b[34m2024-10-08T21:35:09.579+0500\u001b[0m] {\u001b[34ms3.py:\u001b[0m1387} INFO\u001b[0m - Downloading source S3 file from Bucket test-bucket-nicolas-1 with path NicolasPal/project1/rf/datasets/X_train.pkl\u001b[0m\n",
      "[\u001b[34m2024-10-08T21:35:09.582+0500\u001b[0m] {\u001b[34mbase.py:\u001b[0m84} INFO\u001b[0m - Retrieving connection 's3_connection'\u001b[0m\n",
      "[\u001b[34m2024-10-08T21:35:09.583+0500\u001b[0m] {\u001b[34mconnection_wrapper.py:\u001b[0m384} INFO\u001b[0m - AWS Connection (conn_id='s3_connection', conn_type='aws') credentials retrieved from login and password.\u001b[0m\n",
      "[\u001b[34m2024-10-08T21:35:11.296+0500\u001b[0m] {\u001b[34ms3.py:\u001b[0m1387} INFO\u001b[0m - Downloading source S3 file from Bucket test-bucket-nicolas-1 with path NicolasPal/project1/rf/datasets/X_test.pkl\u001b[0m\n",
      "[\u001b[34m2024-10-08T21:35:11.790+0500\u001b[0m] {\u001b[34ms3.py:\u001b[0m1387} INFO\u001b[0m - Downloading source S3 file from Bucket test-bucket-nicolas-1 with path NicolasPal/project1/rf/datasets/X_val.pkl\u001b[0m\n",
      "[\u001b[34m2024-10-08T21:35:12.299+0500\u001b[0m] {\u001b[34ms3.py:\u001b[0m1387} INFO\u001b[0m - Downloading source S3 file from Bucket test-bucket-nicolas-1 with path NicolasPal/project1/rf/datasets/y_train.pkl\u001b[0m\n",
      "[\u001b[34m2024-10-08T21:35:12.874+0500\u001b[0m] {\u001b[34ms3.py:\u001b[0m1387} INFO\u001b[0m - Downloading source S3 file from Bucket test-bucket-nicolas-1 with path NicolasPal/project1/rf/datasets/y_test.pkl\u001b[0m\n",
      "[\u001b[34m2024-10-08T21:35:13.328+0500\u001b[0m] {\u001b[34ms3.py:\u001b[0m1387} INFO\u001b[0m - Downloading source S3 file from Bucket test-bucket-nicolas-1 with path NicolasPal/project1/rf/datasets/y_val.pkl\u001b[0m\n"
     ]
    }
   ],
   "source": [
    "data = {}\n",
    "\n",
    "m_name = \"rf\"\n",
    "\n",
    "for name in [\"X_train\", \"X_test\", \"X_val\", \"y_train\", \"y_test\", \"y_val\"]:\n",
    "    file = s3_hook.download_file(key=f'NicolasPal/project1/{m_name}/datasets/{name}.pkl', bucket_name=BUCKET)\n",
    "    data[name] = pd.read_pickle(file)"
   ]
  },
  {
   "cell_type": "code",
   "execution_count": null,
   "id": "0b023446-f8b3-46ec-a0f3-da898b6f74a9",
   "metadata": {},
   "outputs": [],
   "source": []
  },
  {
   "cell_type": "code",
   "execution_count": 23,
   "id": "9f893b02-33e3-40f0-8ce3-c2e437caf673",
   "metadata": {},
   "outputs": [
    {
     "name": "stdout",
     "output_type": "stream",
     "text": [
      "<class 'pandas.core.frame.DataFrame'>\n",
      "RangeIndex: 15480 entries, 0 to 15479\n",
      "Data columns (total 8 columns):\n",
      " #   Column      Non-Null Count  Dtype  \n",
      "---  ------      --------------  -----  \n",
      " 0   MedInc      15480 non-null  float64\n",
      " 1   HouseAge    15480 non-null  float64\n",
      " 2   AveRooms    15480 non-null  float64\n",
      " 3   AveBedrms   15480 non-null  float64\n",
      " 4   Population  15480 non-null  float64\n",
      " 5   AveOccup    15480 non-null  float64\n",
      " 6   Latitude    15480 non-null  float64\n",
      " 7   Longitude   15480 non-null  float64\n",
      "dtypes: float64(8)\n",
      "memory usage: 967.6 KB\n"
     ]
    }
   ],
   "source": [
    "pd.DataFrame(data[\"X_train\"], columns = FEATURES).info()"
   ]
  },
  {
   "cell_type": "code",
   "execution_count": null,
   "id": "cc2cb798-5324-411d-82e6-6410cc012ff8",
   "metadata": {},
   "outputs": [],
   "source": []
  },
  {
   "cell_type": "code",
   "execution_count": null,
   "id": "79426801-ab9c-48e3-9794-1e4ace499e0b",
   "metadata": {},
   "outputs": [],
   "source": []
  },
  {
   "cell_type": "code",
   "execution_count": null,
   "id": "99fce424-1362-47f7-a7b0-c0b5bd74b165",
   "metadata": {},
   "outputs": [],
   "source": []
  }
 ],
 "metadata": {
  "kernelspec": {
   "display_name": "Python 3 (ipykernel)",
   "language": "python",
   "name": "python3"
  },
  "language_info": {
   "codemirror_mode": {
    "name": "ipython",
    "version": 3
   },
   "file_extension": ".py",
   "mimetype": "text/x-python",
   "name": "python",
   "nbconvert_exporter": "python",
   "pygments_lexer": "ipython3",
   "version": "3.12.3"
  }
 },
 "nbformat": 4,
 "nbformat_minor": 5
}
